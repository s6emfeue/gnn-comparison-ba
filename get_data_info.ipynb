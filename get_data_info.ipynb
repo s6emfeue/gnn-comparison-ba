{
 "cells": [
  {
   "cell_type": "markdown",
   "metadata": {},
   "source": [
    "# Datei, um die Variablen für die Datensätze zu finden"
   ]
  },
  {
   "cell_type": "code",
   "execution_count": 1,
   "metadata": {},
   "outputs": [],
   "source": [
    "from torch_geometric.datasets import TUDataset"
   ]
  },
  {
   "cell_type": "code",
   "execution_count": 2,
   "metadata": {},
   "outputs": [],
   "source": [
    "def analyze_dataset(name):\n",
    "    dataset = TUDataset(root=f'./data/{name}', name=name)\n",
    "    num_nodes = [data.num_nodes for data in dataset]\n",
    "    dim_features = dataset[0].x.size(1) if dataset[0].x is not None else 0\n",
    "    labels = set([data.y.item() for data in dataset])\n",
    "    print(f\"Dataset: {name}\")\n",
    "    print(f\"Anzahl Graphen: {len(dataset)}\")\n",
    "    print(f\"Maximale Knotenanzahl: {max(num_nodes)}\")\n",
    "    print(f\"Dimension: {dim_features}\")\n",
    "    print(f\"Anzahl Klassen: {len(labels)} - {labels}\")"
   ]
  },
  {
   "cell_type": "code",
   "execution_count": 3,
   "metadata": {},
   "outputs": [
    {
     "name": "stderr",
     "output_type": "stream",
     "text": [
      "Downloading https://www.chrsmrrs.com/graphkerneldatasets/NCI109.zip\n",
      "Extracting data/NCI109/NCI109/NCI109.zip\n",
      "Processing...\n",
      "Done!\n",
      "Downloading https://www.chrsmrrs.com/graphkerneldatasets/DHFR.zip\n"
     ]
    },
    {
     "name": "stdout",
     "output_type": "stream",
     "text": [
      "Dataset: NCI109\n",
      "Anzahl Graphen: 4127\n",
      "Maximale Knotenanzahl: 111\n",
      "Dimension: 38\n",
      "Anzahl Klassen: 2 - {0, 1}\n"
     ]
    },
    {
     "name": "stderr",
     "output_type": "stream",
     "text": [
      "Extracting data/DHFR/DHFR/DHFR.zip\n",
      "Processing...\n",
      "Done!\n",
      "Downloading https://www.chrsmrrs.com/graphkerneldatasets/Mutagenicity.zip\n"
     ]
    },
    {
     "name": "stdout",
     "output_type": "stream",
     "text": [
      "Dataset: DHFR\n",
      "Anzahl Graphen: 756\n",
      "Maximale Knotenanzahl: 71\n",
      "Dimension: 53\n",
      "Anzahl Klassen: 2 - {0, 1}\n"
     ]
    },
    {
     "name": "stderr",
     "output_type": "stream",
     "text": [
      "Extracting data/Mutagenicity/Mutagenicity/Mutagenicity.zip\n",
      "Processing...\n",
      "Done!\n"
     ]
    },
    {
     "name": "stdout",
     "output_type": "stream",
     "text": [
      "Dataset: Mutagenicity\n",
      "Anzahl Graphen: 4337\n",
      "Maximale Knotenanzahl: 417\n",
      "Dimension: 14\n",
      "Anzahl Klassen: 2 - {0, 1}\n"
     ]
    },
    {
     "name": "stderr",
     "output_type": "stream",
     "text": [
      "Downloading https://www.chrsmrrs.com/graphkerneldatasets/SYNTHETIC.zip\n",
      "Extracting data/SYNTHETIC/SYNTHETIC/SYNTHETIC.zip\n",
      "Processing...\n"
     ]
    },
    {
     "name": "stdout",
     "output_type": "stream",
     "text": [
      "Dataset: SYNTHETIC\n",
      "Anzahl Graphen: 300\n",
      "Maximale Knotenanzahl: 100\n",
      "Dimension: 8\n",
      "Anzahl Klassen: 2 - {0, 1}\n"
     ]
    },
    {
     "name": "stderr",
     "output_type": "stream",
     "text": [
      "Done!\n"
     ]
    }
   ],
   "source": [
    "analyze_dataset(\"NCI109\")\n",
    "analyze_dataset(\"DHFR\")\n",
    "analyze_dataset(\"Mutagenicity\")\n",
    "analyze_dataset(\"SYNTHETIC\")"
   ]
  }
 ],
 "metadata": {
  "kernelspec": {
   "display_name": "gnn-comparison",
   "language": "python",
   "name": "python3"
  },
  "language_info": {
   "codemirror_mode": {
    "name": "ipython",
    "version": 3
   },
   "file_extension": ".py",
   "mimetype": "text/x-python",
   "name": "python",
   "nbconvert_exporter": "python",
   "pygments_lexer": "ipython3",
   "version": "3.10.13"
  }
 },
 "nbformat": 4,
 "nbformat_minor": 2
}
